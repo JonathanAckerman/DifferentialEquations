{
 "cells": [
  {
   "cell_type": "markdown",
   "metadata": {},
   "source": [
    "<b>Copyright Notice</b><br>\n",
    "Copyright © 2019 DigiPen (USA) Corp. and its owners.  All rights reserved.<br>\n",
    "No parts of this publication may be copied or distributed, transmitted, transcribed, stored in a retrieval system, or translated into any human or computer language without the express written permission of DigiPen (USA) Corp., 9931 Willows Road NE, Redmond, WA 98052<br>\n",
    "<b>Trademarks</b><br>\n",
    "DigiPen® is a registered trademark of DigiPen (USA) Corp.<br>\n",
    "All other product names mentioned in this booklet are trademarks or registered trademarks of their respective companies and are hereby acknowledged.\n",
    "\n",
    "# MAT256 Project: Solving Initial Value ODE Problems\n",
    "\n",
    "**Author:** Jonathan Ackerman<br>\n",
    "**Date:** 7/8/19"
   ]
  },
  {
   "cell_type": "code",
   "execution_count": 1,
   "metadata": {},
   "outputs": [],
   "source": [
    "import numpy as np\n",
    "from matplotlib import pyplot as plt\n",
    "%matplotlib notebook\n",
    "\n",
    "from collections import namedtuple"
   ]
  },
  {
   "cell_type": "code",
   "execution_count": 22,
   "metadata": {},
   "outputs": [],
   "source": [
    "# Euler Method Definition\n",
    "def Euler(h, t, f, IV):\n",
    "    n = t / h\n",
    "    t_n = IV.t\n",
    "    z_n = IV.z\n",
    "    \n",
    "    output = np.array([])\n",
    "    output.resize(int(n+1), z_n.size + 1)\n",
    "    \n",
    "    for i in range(int(n)):\n",
    "        output[i,0] = t_n\n",
    "        output[i,1] = z_n.tolist()[0]\n",
    "        # calc k1\n",
    "        k1 = f(t_n, z_n)\n",
    "        # calc y_n+1\n",
    "        z_n = z_n + h * k1\n",
    "        # calc t_n+1\n",
    "        t_n = round(t_n + h, 5)\n",
    "    output[int(n),0] = t_n\n",
    "    output[int(n),1] = z_n.tolist()[0]\n",
    "    return output\n",
    "          "
   ]
  },
  {
   "cell_type": "code",
   "execution_count": 3,
   "metadata": {},
   "outputs": [],
   "source": [
    "# Midpoint Method Definition\n"
   ]
  },
  {
   "cell_type": "code",
   "execution_count": 27,
   "metadata": {},
   "outputs": [],
   "source": [
    "# Modified Euler Method Definition\n",
    "def ModifiedEuler(h, t, f, IV):\n",
    "    n = t / h\n",
    "    t_n = IV.t\n",
    "    z_n = IV.z\n",
    "    for i in range(int(n)):\n",
    "        # calc k1\n",
    "        k1 = f(t_n, z_n)\n",
    "        # calc k2\n",
    "        k2 = f(t_n + h, z_n + h * k1)\n",
    "        # calc y_n+1\n",
    "        z_n = z_n + (h / 2) * (k1 + k2)\n",
    "        # calc t_n+1\n",
    "        t_n = round(t_n + h, 5)\n",
    "    return z_n"
   ]
  },
  {
   "cell_type": "code",
   "execution_count": 28,
   "metadata": {},
   "outputs": [],
   "source": [
    "# Runge-Kutta Method Definition\n",
    "def RK(h, t, f, IV):\n",
    "    n = t / h\n",
    "    t_n = IV.t\n",
    "    z_n = IV.z\n",
    "    for i in range(int(n)):\n",
    "        k1 = f( t_n, z_n )\n",
    "        k2 = f( t_n + (h / 2), z_n + ((h * k1) / 2) )\n",
    "        k3 = f( t_n + (h / 2), z_n + ((h * k2) / 2) )\n",
    "        k4 = f( t_n + h, z_n + (h * k3) )\n",
    "        # calc y_n+1\n",
    "        z_n = z_n + (h / 6) * (k1 + (2*k2) + (2*k3) + k4)\n",
    "        # calc t_n+1\n",
    "        t_n = round(t_n + h, 5)\n",
    "    return z_n\n",
    "        "
   ]
  },
  {
   "cell_type": "markdown",
   "metadata": {},
   "source": [
    "## A One-Dimensional ODE\n",
    "\n",
    "---\n",
    "\n",
    "\\begin{align}\n",
    "y' & = 1 - t + 4y \\\\\n",
    "y(0) & = 1\n",
    "\\end{align}\n",
    "\n",
    "---"
   ]
  },
  {
   "cell_type": "code",
   "execution_count": 23,
   "metadata": {},
   "outputs": [],
   "source": [
    "def F1(t, z):\n",
    "    z_p = 1 - t + 4 * z\n",
    "    return z_p\n",
    "\n",
    "initialValue = namedtuple('IV', ['t', 'z'])\n",
    "t0 = 0\n",
    "z0 = np.array([1])\n",
    "IV = initialValue(t0, z0)\n",
    "eq1 = F1"
   ]
  },
  {
   "cell_type": "markdown",
   "metadata": {},
   "source": [
    "### 1. Euler Method"
   ]
  },
  {
   "cell_type": "code",
   "execution_count": 26,
   "metadata": {},
   "outputs": [
    {
     "name": "stdout",
     "output_type": "stream",
     "text": [
      "[[ 0.          1.        ]\n",
      " [ 0.05        1.25      ]\n",
      " [ 0.1         1.5475    ]\n",
      " [ 0.15        1.902     ]\n",
      " [ 0.2         2.3249    ]\n",
      " [ 0.25        2.82988   ]\n",
      " [ 0.3         3.433356  ]\n",
      " [ 0.35        4.1550272 ]\n",
      " [ 0.4         5.01853264]\n",
      " [ 0.45        6.05223917]\n",
      " [ 0.5         7.290187  ]\n",
      " [ 0.55        8.7732244 ]\n",
      " [ 0.6        10.55036928]\n",
      " [ 0.65       12.68044314]\n",
      " [ 0.7        15.23403177]\n",
      " [ 0.75       18.29583812]\n",
      " [ 0.8        21.96750574]\n",
      " [ 0.85       26.37100689]\n",
      " [ 0.9        31.65270827]\n",
      " [ 0.95       37.98824993]\n",
      " [ 1.         45.58839991]]\n"
     ]
    }
   ],
   "source": [
    "out = Euler(0.05, 1.0, eq1, IV)\n",
    "print(out)"
   ]
  },
  {
   "cell_type": "code",
   "execution_count": 25,
   "metadata": {},
   "outputs": [
    {
     "data": {
      "image/png": "[encoded data removed]",
      "text/plain": [
       "<Figure size 432x288 with 1 Axes>"
      ]
     },
     "metadata": {
      "needs_background": "light"
     },
     "output_type": "display_data"
    }
   ],
   "source": [
    "t = out[:,:1]\n",
    "y = out[:,1:2]\n",
    "plt.xlabel(\"time (t)\")\n",
    "plt.ylabel(\"output (y)\")\n",
    "plt.plot(t, y)\n",
    "plt.show()"
   ]
  },
  {
   "cell_type": "markdown",
   "metadata": {},
   "source": [
    "### 2. Midpoint Method"
   ]
  },
  {
   "cell_type": "code",
   "execution_count": null,
   "metadata": {},
   "outputs": [],
   "source": []
  },
  {
   "cell_type": "markdown",
   "metadata": {},
   "source": [
    "### 3. Modified Euler Method"
   ]
  },
  {
   "cell_type": "code",
   "execution_count": 29,
   "metadata": {},
   "outputs": [
    {
     "data": {
      "text/plain": [
       "array([63.42469764])"
      ]
     },
     "execution_count": 29,
     "metadata": {},
     "output_type": "execute_result"
    }
   ],
   "source": [
    "ModifiedEuler(0.05, 1.0, eq1, IV)"
   ]
  },
  {
   "cell_type": "code",
   "execution_count": null,
   "metadata": {},
   "outputs": [],
   "source": []
  },
  {
   "cell_type": "markdown",
   "metadata": {},
   "source": [
    "### 4. Runge-Kutta Method"
   ]
  },
  {
   "cell_type": "code",
   "execution_count": 30,
   "metadata": {},
   "outputs": [
    {
     "data": {
      "text/plain": [
       "array([64.89487502])"
      ]
     },
     "execution_count": 30,
     "metadata": {},
     "output_type": "execute_result"
    }
   ],
   "source": [
    "RK(0.05, 1.0, eq1, IV)"
   ]
  },
  {
   "cell_type": "markdown",
   "metadata": {},
   "source": [
    "## A System of ODEs\n",
    "\n",
    "---\n",
    "\n",
    "\\begin{align}\n",
    "x' & = t - x + y \\\\\n",
    "y' & = x + y \\\\\n",
    "\\\\\n",
    "x(0) & = 0 \\\\\n",
    "y(0) & = 1\n",
    "\\end{align}\n",
    "\n",
    "---"
   ]
  },
  {
   "cell_type": "code",
   "execution_count": 31,
   "metadata": {},
   "outputs": [],
   "source": [
    "def F2(t, z):\n",
    "    k = np.array([0, 0])\n",
    "    k[0] = t - z[0] + z[1]\n",
    "    k[1] = z[0] + z[1]\n",
    "    return k\n",
    "\n",
    "initialValue = namedtuple('IV', ['t', 'z'])\n",
    "t0 = 0\n",
    "z0 = np.array([0, 1])\n",
    "IV = initialValue(t0, z0)\n",
    "eq2 = F2"
   ]
  },
  {
   "cell_type": "markdown",
   "metadata": {},
   "source": [
    "### 1. Euler Method"
   ]
  },
  {
   "cell_type": "code",
   "execution_count": 32,
   "metadata": {},
   "outputs": [
    {
     "data": {
      "text/plain": [
       "array([[0.  , 0.  , 0.  ],\n",
       "       [0.05, 0.05, 0.  ],\n",
       "       [0.1 , 0.1 , 0.  ],\n",
       "       [0.15, 0.15, 0.  ],\n",
       "       [0.2 , 0.2 , 0.  ],\n",
       "       [0.25, 0.25, 0.  ],\n",
       "       [0.3 , 0.3 , 0.  ],\n",
       "       [0.35, 0.35, 0.  ],\n",
       "       [0.4 , 0.4 , 0.  ],\n",
       "       [0.45, 0.45, 0.  ],\n",
       "       [0.5 , 0.5 , 0.  ],\n",
       "       [0.55, 0.55, 0.  ],\n",
       "       [0.6 , 0.6 , 0.  ],\n",
       "       [0.65, 0.65, 0.  ],\n",
       "       [0.7 , 0.7 , 0.  ],\n",
       "       [0.75, 0.75, 0.  ],\n",
       "       [0.8 , 0.85, 0.  ],\n",
       "       [0.85, 0.95, 0.  ],\n",
       "       [0.9 , 1.05, 0.  ],\n",
       "       [0.95, 1.15, 0.  ],\n",
       "       [1.  , 1.25, 0.  ]])"
      ]
     },
     "execution_count": 32,
     "metadata": {},
     "output_type": "execute_result"
    }
   ],
   "source": [
    "Euler(0.05, 1.0, eq2, IV)"
   ]
  },
  {
   "cell_type": "markdown",
   "metadata": {},
   "source": [
    "### 2. Midpoint Method"
   ]
  },
  {
   "cell_type": "code",
   "execution_count": null,
   "metadata": {},
   "outputs": [],
   "source": []
  },
  {
   "cell_type": "markdown",
   "metadata": {},
   "source": [
    "### 3. Modified Euler Method"
   ]
  },
  {
   "cell_type": "code",
   "execution_count": 33,
   "metadata": {},
   "outputs": [
    {
     "data": {
      "text/plain": [
       "array([1.275, 2.775])"
      ]
     },
     "execution_count": 33,
     "metadata": {},
     "output_type": "execute_result"
    }
   ],
   "source": [
    "ModifiedEuler(0.05, 1.0, eq2, IV)"
   ]
  },
  {
   "cell_type": "markdown",
   "metadata": {},
   "source": [
    "### 4. Runge-Kutta Method"
   ]
  },
  {
   "cell_type": "code",
   "execution_count": 34,
   "metadata": {},
   "outputs": [
    {
     "data": {
      "text/plain": [
       "array([1.25833333, 2.7       ])"
      ]
     },
     "execution_count": 34,
     "metadata": {},
     "output_type": "execute_result"
    }
   ],
   "source": [
    "RK(0.05, 1.0, eq2, IV)"
   ]
  },
  {
   "cell_type": "markdown",
   "metadata": {},
   "source": [
    "## A Second Order ODE\n",
    "\n",
    "---\n",
    "\n",
    "\\begin{align}\n",
    "2y'' + 5y' - 3y & = 0 \\\\\n",
    "\\\\\n",
    "y(0) & = 5 \\\\\n",
    "y'(0) & = 13\n",
    "\\end{align}\n",
    "\n",
    "---"
   ]
  },
  {
   "cell_type": "code",
   "execution_count": 35,
   "metadata": {},
   "outputs": [],
   "source": [
    "def F3(t, z):\n",
    "    k = np.array([0, 0])\n",
    "    k[0] = z[1]\n",
    "    k[1] = 0.5 * (3 * z[0] - 5 * z[1])\n",
    "    return k\n",
    "\n",
    "initialValue = namedtuple('IV', ['t', 'z'])\n",
    "t0 = 0\n",
    "z0 = np.array([5, 13])\n",
    "IV = initialValue(t0, z0)\n",
    "eq3 = F3"
   ]
  },
  {
   "cell_type": "markdown",
   "metadata": {},
   "source": [
    "### 1. Euler Method"
   ]
  },
  {
   "cell_type": "code",
   "execution_count": 36,
   "metadata": {},
   "outputs": [
    {
     "data": {
      "text/plain": [
       "array([[ 0.  ,  5.  ,  0.  ],\n",
       "       [ 0.05,  5.65,  0.  ],\n",
       "       [ 0.1 ,  6.2 ,  0.  ],\n",
       "       [ 0.15,  6.7 ,  0.  ],\n",
       "       [ 0.2 ,  7.15,  0.  ],\n",
       "       [ 0.25,  7.6 ,  0.  ],\n",
       "       [ 0.3 ,  8.  ,  0.  ],\n",
       "       [ 0.35,  8.4 ,  0.  ],\n",
       "       [ 0.4 ,  8.75,  0.  ],\n",
       "       [ 0.45,  9.1 ,  0.  ],\n",
       "       [ 0.5 ,  9.45,  0.  ],\n",
       "       [ 0.55,  9.75,  0.  ],\n",
       "       [ 0.6 , 10.05,  0.  ],\n",
       "       [ 0.65, 10.35,  0.  ],\n",
       "       [ 0.7 , 10.65,  0.  ],\n",
       "       [ 0.75, 10.95,  0.  ],\n",
       "       [ 0.8 , 11.25,  0.  ],\n",
       "       [ 0.85, 11.55,  0.  ],\n",
       "       [ 0.9 , 11.85,  0.  ],\n",
       "       [ 0.95, 12.15,  0.  ],\n",
       "       [ 1.  , 12.45,  0.  ]])"
      ]
     },
     "execution_count": 36,
     "metadata": {},
     "output_type": "execute_result"
    }
   ],
   "source": [
    "Euler(0.05, 1.0, eq3, IV)"
   ]
  },
  {
   "cell_type": "markdown",
   "metadata": {},
   "source": [
    "### 2. Midpoint Method"
   ]
  },
  {
   "cell_type": "code",
   "execution_count": null,
   "metadata": {},
   "outputs": [],
   "source": []
  },
  {
   "cell_type": "markdown",
   "metadata": {},
   "source": [
    "### 3. Modified Euler Method"
   ]
  },
  {
   "cell_type": "code",
   "execution_count": 37,
   "metadata": {},
   "outputs": [
    {
     "data": {
      "text/plain": [
       "array([12.45 ,  6.875])"
      ]
     },
     "execution_count": 37,
     "metadata": {},
     "output_type": "execute_result"
    }
   ],
   "source": [
    "ModifiedEuler(0.05, 1.0, eq3, IV)"
   ]
  },
  {
   "cell_type": "markdown",
   "metadata": {},
   "source": [
    "### 4. Runge-Kutta Method"
   ]
  },
  {
   "cell_type": "code",
   "execution_count": 38,
   "metadata": {},
   "outputs": [
    {
     "data": {
      "text/plain": [
       "array([12.45833333,  6.89166667])"
      ]
     },
     "execution_count": 38,
     "metadata": {},
     "output_type": "execute_result"
    }
   ],
   "source": [
    "RK(0.05, 1.0, eq3, IV)"
   ]
  },
  {
   "cell_type": "code",
   "execution_count": null,
   "metadata": {},
   "outputs": [],
   "source": []
  }
 ],
 "metadata": {
  "kernelspec": {
   "display_name": "Python 3",
   "language": "python",
   "name": "python3"
  },
  "language_info": {
   "codemirror_mode": {
    "name": "ipython",
    "version": 3
   },
   "file_extension": ".py",
   "mimetype": "text/x-python",
   "name": "python",
   "nbconvert_exporter": "python",
   "pygments_lexer": "ipython3",
   "version": "3.7.3"
  }
 },
 "nbformat": 4,
 "nbformat_minor": 2
}
